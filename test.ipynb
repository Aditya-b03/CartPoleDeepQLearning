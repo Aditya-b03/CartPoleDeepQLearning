{
 "cells": [
  {
   "cell_type": "code",
   "execution_count": null,
   "metadata": {},
   "outputs": [],
   "source": [
    "#requirements\n",
    "!pip3 install gymnasium\n",
    "!pip3 install numpy\n",
    "!pip3 install tensorflow\n",
    "!pip3 install keras"
   ]
  },
  {
   "cell_type": "code",
   "execution_count": null,
   "metadata": {},
   "outputs": [],
   "source": [
    "#imports\n",
    "import numpy as np\n",
    "import random\n",
    "import gymnasium as gym\n",
    "import tensorflow as tf\n",
    "from tensorflow.keras.models import load_model"
   ]
  },
  {
   "attachments": {},
   "cell_type": "markdown",
   "metadata": {},
   "source": [
    "#### Random testing"
   ]
  },
  {
   "cell_type": "code",
   "execution_count": null,
   "metadata": {},
   "outputs": [],
   "source": [
    "#Environment\n",
    "env = gym.make(\"CartPole-v1\" , render_mode=\"human\")\n",
    "action_space = [0,1]"
   ]
  },
  {
   "cell_type": "code",
   "execution_count": null,
   "metadata": {},
   "outputs": [],
   "source": [
    "#Random testing\n",
    "episodes = 10\n",
    "for episode in range(0,episodes):\n",
    "    state = np.array(env.reset()[0])\n",
    "    done = False\n",
    "    score = 0\n",
    "\n",
    "    while not done:\n",
    "        # make random moves\n",
    "        action = random.choice(action_space)\n",
    "        observation, reward, done,_,_  = env.step(action)\n",
    "        score+=reward\n",
    "        env.render()\n",
    "    \n",
    "    print(f\"Episode {episode+1} : score = {score}\")\n",
    "env.close()"
   ]
  },
  {
   "attachments": {},
   "cell_type": "markdown",
   "metadata": {},
   "source": [
    "#### Best action predictor function"
   ]
  },
  {
   "cell_type": "code",
   "execution_count": null,
   "metadata": {},
   "outputs": [],
   "source": [
    "def predict_action(state):\n",
    "    # get Q-values for each corresponding action\n",
    "    action_probs = model(np.expand_dims(state, axis=0) , training=False)\n",
    "    # Take best action\n",
    "    actionIndex = tf.argmax(action_probs[0]).numpy()\n",
    "    return action_space[actionIndex]"
   ]
  },
  {
   "attachments": {},
   "cell_type": "markdown",
   "metadata": {},
   "source": [
    "#### Model with 300 episodes of training"
   ]
  },
  {
   "cell_type": "code",
   "execution_count": null,
   "metadata": {},
   "outputs": [],
   "source": [
    "model = load_model(\"./models/trained_300.h5\")\n",
    "#Environment\n",
    "env = gym.make(\"CartPole-v1\" , render_mode=\"human\")\n",
    "action_space = [0,1]"
   ]
  },
  {
   "cell_type": "code",
   "execution_count": null,
   "metadata": {},
   "outputs": [],
   "source": [
    "# testing using model with 300 trained episodes\n",
    "episodes = 10\n",
    "for episode in range(0,episodes):\n",
    "    state = np.array(env.reset()[0])\n",
    "    done = False\n",
    "    score = 0\n",
    "\n",
    "    while not done:\n",
    "        #predict action using model\n",
    "        action = predict_action(state)\n",
    "        state, reward, done,_,_  = env.step(action)\n",
    "        score+=reward\n",
    "        env.render()\n",
    "    \n",
    "    print(f\"Episode {episode+1} : score = {score}\")\n",
    "\n",
    "env.close()"
   ]
  },
  {
   "attachments": {},
   "cell_type": "markdown",
   "metadata": {},
   "source": [
    "#### model with 600 episodes of training"
   ]
  },
  {
   "cell_type": "code",
   "execution_count": null,
   "metadata": {},
   "outputs": [],
   "source": [
    "model = load_model(\"./models/trained_600.h5\")\n",
    "#Environment\n",
    "env = gym.make(\"CartPole-v1\" , render_mode=\"human\")\n",
    "action_space = [0,1]"
   ]
  },
  {
   "cell_type": "code",
   "execution_count": null,
   "metadata": {},
   "outputs": [],
   "source": [
    "# testing using model with 600 trained episodes\n",
    "episodes = 10\n",
    "for episode in range(0,episodes):\n",
    "    state = np.array(env.reset()[0])\n",
    "    done = False\n",
    "    score = 0\n",
    "\n",
    "    while not done:\n",
    "        #predict action using model\n",
    "        action = predict_action(state)\n",
    "        state, reward, done,_,_  = env.step(action)\n",
    "        score+=reward\n",
    "        env.render()\n",
    "    \n",
    "    print(f\"Episode {episode+1} : score = {score}\")\n",
    "\n",
    "env.close()"
   ]
  }
 ],
 "metadata": {
  "kernelspec": {
   "display_name": "Python 3",
   "language": "python",
   "name": "python3"
  },
  "language_info": {
   "codemirror_mode": {
    "name": "ipython",
    "version": 3
   },
   "file_extension": ".py",
   "mimetype": "text/x-python",
   "name": "python",
   "nbconvert_exporter": "python",
   "pygments_lexer": "ipython3",
   "version": "3.10.6"
  },
  "orig_nbformat": 4
 },
 "nbformat": 4,
 "nbformat_minor": 2
}
